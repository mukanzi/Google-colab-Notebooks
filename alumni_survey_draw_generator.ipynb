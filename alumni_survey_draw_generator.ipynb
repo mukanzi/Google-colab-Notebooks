{
  "nbformat": 4,
  "nbformat_minor": 0,
  "metadata": {
    "colab": {
      "provenance": [],
      "authorship_tag": "ABX9TyNARvAitcnL4AL8BHNKDfVw",
      "include_colab_link": true
    },
    "kernelspec": {
      "name": "python3",
      "display_name": "Python 3"
    },
    "language_info": {
      "name": "python"
    }
  },
  "cells": [
    {
      "cell_type": "markdown",
      "metadata": {
        "id": "view-in-github",
        "colab_type": "text"
      },
      "source": [
        "<a href=\"https://colab.research.google.com/github/mukanzi/Google-colab-Notebooks/blob/main/alumni_survey_draw_generator.ipynb\" target=\"_parent\"><img src=\"https://colab.research.google.com/assets/colab-badge.svg\" alt=\"Open In Colab\"/></a>"
      ]
    },
    {
      "cell_type": "code",
      "execution_count": 65,
      "metadata": {
        "id": "WxJEkhHGyNa0"
      },
      "outputs": [],
      "source": [
        "import random"
      ]
    },
    {
      "cell_type": "code",
      "source": [
        "list_of_participants = [i for i in range(3737)]"
      ],
      "metadata": {
        "id": "6M1Fjg9CyT-E"
      },
      "execution_count": 66,
      "outputs": []
    },
    {
      "cell_type": "code",
      "source": [
        "list_of_participants[-1]"
      ],
      "metadata": {
        "colab": {
          "base_uri": "https://localhost:8080/"
        },
        "id": "239Hfg0gynEd",
        "outputId": "1895e8ee-f3ab-4ee4-dfc9-5bda096022d8"
      },
      "execution_count": 67,
      "outputs": [
        {
          "output_type": "execute_result",
          "data": {
            "text/plain": [
              "3736"
            ]
          },
          "metadata": {},
          "execution_count": 67
        }
      ]
    },
    {
      "cell_type": "code",
      "source": [
        "random.choice(list_of_participants)"
      ],
      "metadata": {
        "colab": {
          "base_uri": "https://localhost:8080/"
        },
        "id": "dJFVuHAAy-O-",
        "outputId": "cefb8619-5525-416a-ac5b-b2297f2c3374"
      },
      "execution_count": 68,
      "outputs": [
        {
          "output_type": "execute_result",
          "data": {
            "text/plain": [
              "2794"
            ]
          },
          "metadata": {},
          "execution_count": 68
        }
      ]
    },
    {
      "cell_type": "markdown",
      "source": [
        "##Career coaches winner"
      ],
      "metadata": {
        "id": "v0qDkfaQzj_9"
      }
    },
    {
      "cell_type": "code",
      "source": [
        "number_of_winners = 15\n",
        "\n",
        "winners_career_coaches = []\n",
        "\n",
        "\n",
        "for i in range(0,number_of_winners,1):\n",
        "    winners_career_coaches.append(random.choice(list_of_participants))\n",
        "for winner in winners_career_coaches:\n",
        "    list_of_participants.remove(winner)\n",
        "print (winners_career_coaches)"
      ],
      "metadata": {
        "colab": {
          "base_uri": "https://localhost:8080/"
        },
        "id": "wSjJ2A_hzYck",
        "outputId": "f24fd77d-85cf-4a2f-ed54-db7377914cc4"
      },
      "execution_count": 69,
      "outputs": [
        {
          "output_type": "stream",
          "name": "stdout",
          "text": [
            "[2183, 3105, 3588, 2171, 1516, 1718, 533, 3259, 194, 2378, 1067, 52, 2438, 3491, 1033]\n"
          ]
        }
      ]
    },
    {
      "cell_type": "markdown",
      "source": [
        "##Audible"
      ],
      "metadata": {
        "id": "T49H9Dj92Z79"
      }
    },
    {
      "cell_type": "code",
      "source": [
        "number_of_audible = 10\n",
        "\n",
        "audile_winners = []\n",
        "\n",
        "for i in range(0,number_of_audible,1):\n",
        "  audile_winners.append(random.choice(list_of_participants))\n",
        "\n",
        "for item in audile_winners:\n",
        "  list_of_participants.remove(item)\n",
        "print (audile_winners)"
      ],
      "metadata": {
        "colab": {
          "base_uri": "https://localhost:8080/"
        },
        "id": "rFigTGsf2U1d",
        "outputId": "3e7a6281-2140-4e27-955d-7855dfc4ac95"
      },
      "execution_count": 70,
      "outputs": [
        {
          "output_type": "stream",
          "name": "stdout",
          "text": [
            "[451, 1479, 1506, 529, 2181, 1418, 2973, 799, 3075, 839]\n"
          ]
        }
      ]
    },
    {
      "cell_type": "markdown",
      "source": [
        "#Gift cards"
      ],
      "metadata": {
        "id": "xPJwnw2E4kPB"
      }
    },
    {
      "cell_type": "code",
      "source": [
        "number_of_gift_cards = 30\n",
        "\n",
        "gift_card_winners = []\n",
        "\n",
        "for i in range(0,number_of_gift_cards,1):\n",
        "  gift_card_winners.append(random.choice(list_of_participants))\n",
        "for item in gift_card_winners:\n",
        "  list_of_participants.remove(item)\n",
        "print (gift_card_winners)"
      ],
      "metadata": {
        "colab": {
          "base_uri": "https://localhost:8080/"
        },
        "id": "jJbNwYpE4U6E",
        "outputId": "df2cf7dd-8676-4814-d51d-b70407ee38f7"
      },
      "execution_count": 71,
      "outputs": [
        {
          "output_type": "stream",
          "name": "stdout",
          "text": [
            "[2197, 1693, 290, 1136, 969, 2517, 2083, 535, 2809, 3023, 365, 1007, 2557, 2324, 1358, 1862, 2323, 3323, 3207, 1884, 3005, 880, 3096, 3332, 1544, 980, 537, 1613, 1982, 2622]\n"
          ]
        }
      ]
    },
    {
      "cell_type": "markdown",
      "source": [
        "##LinkedIn Learning"
      ],
      "metadata": {
        "id": "I2DQhktd6Uaf"
      }
    },
    {
      "cell_type": "code",
      "source": [
        "number_of_linkedin_learning = 48\n",
        "\n",
        "linkedin_winners = []\n",
        "\n",
        "for i in range(0,number_of_linkedin_learning,1):\n",
        "  linkedin_winners.append(random.choice(list_of_participants))\n",
        "for item in linkedin_winners:\n",
        "  list_of_participants.remove(item)\n",
        "\n",
        "print (linkedin_winners)"
      ],
      "metadata": {
        "colab": {
          "base_uri": "https://localhost:8080/"
        },
        "id": "7MOuvOy-6aqO",
        "outputId": "6a0e0c0e-ac01-4813-ccb4-8b59fc631ae9"
      },
      "execution_count": 73,
      "outputs": [
        {
          "output_type": "stream",
          "name": "stdout",
          "text": [
            "[2411, 862, 2536, 88, 2412, 562, 2436, 3668, 662, 964, 1944, 1796, 3577, 1978, 392, 1244, 1536, 2416, 1278, 232, 2223, 3227, 929, 1595, 797, 86, 1611, 2387, 3276, 1614, 177, 3369, 307, 3034, 3088, 2264, 3229, 1209, 3331, 596, 3348, 1407, 940, 1400, 1171, 2976, 2455, 2996]\n"
          ]
        }
      ]
    },
    {
      "cell_type": "markdown",
      "source": [
        "#All winners"
      ],
      "metadata": {
        "id": "E3-zMLKz62zb"
      }
    },
    {
      "cell_type": "code",
      "source": [
        "winners = []\n",
        "for item in winners_career_coaches:\n",
        "  winners.append(item)\n",
        "\n",
        "for item in gift_card_winners:\n",
        "  winners.append(item)\n",
        "\n",
        "for item in linkedin_winners:\n",
        "  winners.append(item)\n",
        "for item in audile_winners:\n",
        "  winners.append(item)\n",
        "\n",
        "print(len(winners))"
      ],
      "metadata": {
        "colab": {
          "base_uri": "https://localhost:8080/"
        },
        "id": "YO7PliCW62Fk",
        "outputId": "f49c7095-8d73-40e9-f123-12705a7c6a34"
      },
      "execution_count": 74,
      "outputs": [
        {
          "output_type": "stream",
          "name": "stdout",
          "text": [
            "103\n"
          ]
        }
      ]
    },
    {
      "cell_type": "code",
      "source": [
        "import pandas as pd\n",
        "winners_df = pd.read_csv('/content/draw_participants.csv')\n",
        "\n",
        "filtered_df = winners_df[winners_df['Unique_ID'].isin(winners)]\n",
        "filtered_df"
      ],
      "metadata": {
        "colab": {
          "base_uri": "https://localhost:8080/",
          "height": 2300
        },
        "id": "3qpV2c9i86fq",
        "outputId": "1d2267fe-4cd2-42b1-b329-d17a0b7b8209"
      },
      "execution_count": 75,
      "outputs": [
        {
          "output_type": "execute_result",
          "data": {
            "text/plain": [
              "      Unique_ID                        First (Given) name Last (Family) name  \\\n",
              "51           52                                  Lisbeth             Castro    \n",
              "85           86                            Oluwatimilehin           Adegbaju   \n",
              "87           88                                    Arinze          Onyegbule   \n",
              "176         177                                  Francis    Hernandez Montas   \n",
              "193         194                                     John                Deng   \n",
              "...         ...                                       ...                ...   \n",
              "3368       3369                                      Sam             Odongo    \n",
              "3490       3491                                    Sylvia          Nakijjoba   \n",
              "3576       3577                             Elijah munene                NaN   \n",
              "3587       3588                        BYUKUSENGE CHANTAL                NaN   \n",
              "3667       3668  Boris Fonyuy @Carnegie Mellon University                NaN   \n",
              "\n",
              "     Middle name  Gender             Country     Secondary         Undergrad  \\\n",
              "51      Daniela   Female  Dominican Republic           NaN  EARTH University   \n",
              "85      Emmanuel    Male             Nigeria           NaN               NaN   \n",
              "87     Kingsley     Male             Nigeria           NaN               NaN   \n",
              "176       Javier    Male  Dominican Republic           NaN  EARTH University   \n",
              "193      Garang     Male         South Sudan           NaN               NaN   \n",
              "...          ...     ...                 ...           ...               ...   \n",
              "3368         NaN    Male              Uganda  BRAC  Uganda               NaN   \n",
              "3490         NaN  Female              Uganda  BRAC  Uganda               NaN   \n",
              "3576         NaN     NaN                 NaN           NaN               NaN   \n",
              "3587         NaN     NaN                 NaN           NaN               NaN   \n",
              "3667         NaN     NaN                 NaN           NaN               NaN   \n",
              "\n",
              "              Graduate                Email address       Phone number  \n",
              "51                 NaN         lc03castro@gmail.com    +1 829 981 0362  \n",
              "85                 NaN         eoadegbaju@gmail.com                NaN  \n",
              "87                 NaN     kingsleyjoseph@ymail.com  +234 803 731 6951  \n",
              "176   EARTH University         franher.30@gmail.com    +1 809 786 4530  \n",
              "193                NaN        mawoudeng85@gmail.com   +211 919 277 284  \n",
              "...                ...                          ...                ...  \n",
              "3368               NaN      samodongo2051@gmail.com    +256 773 769072  \n",
              "3490               NaN  nakijjobasylvia97@gmail.com    +256 781 123648  \n",
              "3576               NaN                          NaN                NaN  \n",
              "3587               NaN                          NaN                NaN  \n",
              "3667               NaN                          NaN                NaN  \n",
              "\n",
              "[103 rows x 11 columns]"
            ],
            "text/html": [
              "\n",
              "  <div id=\"df-09bc455e-1927-48b0-b68b-a31bd8e3c8e5\" class=\"colab-df-container\">\n",
              "    <div>\n",
              "<style scoped>\n",
              "    .dataframe tbody tr th:only-of-type {\n",
              "        vertical-align: middle;\n",
              "    }\n",
              "\n",
              "    .dataframe tbody tr th {\n",
              "        vertical-align: top;\n",
              "    }\n",
              "\n",
              "    .dataframe thead th {\n",
              "        text-align: right;\n",
              "    }\n",
              "</style>\n",
              "<table border=\"1\" class=\"dataframe\">\n",
              "  <thead>\n",
              "    <tr style=\"text-align: right;\">\n",
              "      <th></th>\n",
              "      <th>Unique_ID</th>\n",
              "      <th>First (Given) name</th>\n",
              "      <th>Last (Family) name</th>\n",
              "      <th>Middle name</th>\n",
              "      <th>Gender</th>\n",
              "      <th>Country</th>\n",
              "      <th>Secondary</th>\n",
              "      <th>Undergrad</th>\n",
              "      <th>Graduate</th>\n",
              "      <th>Email address</th>\n",
              "      <th>Phone number</th>\n",
              "    </tr>\n",
              "  </thead>\n",
              "  <tbody>\n",
              "    <tr>\n",
              "      <th>51</th>\n",
              "      <td>52</td>\n",
              "      <td>Lisbeth</td>\n",
              "      <td>Castro</td>\n",
              "      <td>Daniela</td>\n",
              "      <td>Female</td>\n",
              "      <td>Dominican Republic</td>\n",
              "      <td>NaN</td>\n",
              "      <td>EARTH University</td>\n",
              "      <td>NaN</td>\n",
              "      <td>lc03castro@gmail.com</td>\n",
              "      <td>+1 829 981 0362</td>\n",
              "    </tr>\n",
              "    <tr>\n",
              "      <th>85</th>\n",
              "      <td>86</td>\n",
              "      <td>Oluwatimilehin</td>\n",
              "      <td>Adegbaju</td>\n",
              "      <td>Emmanuel</td>\n",
              "      <td>Male</td>\n",
              "      <td>Nigeria</td>\n",
              "      <td>NaN</td>\n",
              "      <td>NaN</td>\n",
              "      <td>NaN</td>\n",
              "      <td>eoadegbaju@gmail.com</td>\n",
              "      <td>NaN</td>\n",
              "    </tr>\n",
              "    <tr>\n",
              "      <th>87</th>\n",
              "      <td>88</td>\n",
              "      <td>Arinze</td>\n",
              "      <td>Onyegbule</td>\n",
              "      <td>Kingsley</td>\n",
              "      <td>Male</td>\n",
              "      <td>Nigeria</td>\n",
              "      <td>NaN</td>\n",
              "      <td>NaN</td>\n",
              "      <td>NaN</td>\n",
              "      <td>kingsleyjoseph@ymail.com</td>\n",
              "      <td>+234 803 731 6951</td>\n",
              "    </tr>\n",
              "    <tr>\n",
              "      <th>176</th>\n",
              "      <td>177</td>\n",
              "      <td>Francis</td>\n",
              "      <td>Hernandez Montas</td>\n",
              "      <td>Javier</td>\n",
              "      <td>Male</td>\n",
              "      <td>Dominican Republic</td>\n",
              "      <td>NaN</td>\n",
              "      <td>EARTH University</td>\n",
              "      <td>EARTH University</td>\n",
              "      <td>franher.30@gmail.com</td>\n",
              "      <td>+1 809 786 4530</td>\n",
              "    </tr>\n",
              "    <tr>\n",
              "      <th>193</th>\n",
              "      <td>194</td>\n",
              "      <td>John</td>\n",
              "      <td>Deng</td>\n",
              "      <td>Garang</td>\n",
              "      <td>Male</td>\n",
              "      <td>South Sudan</td>\n",
              "      <td>NaN</td>\n",
              "      <td>NaN</td>\n",
              "      <td>NaN</td>\n",
              "      <td>mawoudeng85@gmail.com</td>\n",
              "      <td>+211 919 277 284</td>\n",
              "    </tr>\n",
              "    <tr>\n",
              "      <th>...</th>\n",
              "      <td>...</td>\n",
              "      <td>...</td>\n",
              "      <td>...</td>\n",
              "      <td>...</td>\n",
              "      <td>...</td>\n",
              "      <td>...</td>\n",
              "      <td>...</td>\n",
              "      <td>...</td>\n",
              "      <td>...</td>\n",
              "      <td>...</td>\n",
              "      <td>...</td>\n",
              "    </tr>\n",
              "    <tr>\n",
              "      <th>3368</th>\n",
              "      <td>3369</td>\n",
              "      <td>Sam</td>\n",
              "      <td>Odongo</td>\n",
              "      <td>NaN</td>\n",
              "      <td>Male</td>\n",
              "      <td>Uganda</td>\n",
              "      <td>BRAC  Uganda</td>\n",
              "      <td>NaN</td>\n",
              "      <td>NaN</td>\n",
              "      <td>samodongo2051@gmail.com</td>\n",
              "      <td>+256 773 769072</td>\n",
              "    </tr>\n",
              "    <tr>\n",
              "      <th>3490</th>\n",
              "      <td>3491</td>\n",
              "      <td>Sylvia</td>\n",
              "      <td>Nakijjoba</td>\n",
              "      <td>NaN</td>\n",
              "      <td>Female</td>\n",
              "      <td>Uganda</td>\n",
              "      <td>BRAC  Uganda</td>\n",
              "      <td>NaN</td>\n",
              "      <td>NaN</td>\n",
              "      <td>nakijjobasylvia97@gmail.com</td>\n",
              "      <td>+256 781 123648</td>\n",
              "    </tr>\n",
              "    <tr>\n",
              "      <th>3576</th>\n",
              "      <td>3577</td>\n",
              "      <td>Elijah munene</td>\n",
              "      <td>NaN</td>\n",
              "      <td>NaN</td>\n",
              "      <td>NaN</td>\n",
              "      <td>NaN</td>\n",
              "      <td>NaN</td>\n",
              "      <td>NaN</td>\n",
              "      <td>NaN</td>\n",
              "      <td>NaN</td>\n",
              "      <td>NaN</td>\n",
              "    </tr>\n",
              "    <tr>\n",
              "      <th>3587</th>\n",
              "      <td>3588</td>\n",
              "      <td>BYUKUSENGE CHANTAL</td>\n",
              "      <td>NaN</td>\n",
              "      <td>NaN</td>\n",
              "      <td>NaN</td>\n",
              "      <td>NaN</td>\n",
              "      <td>NaN</td>\n",
              "      <td>NaN</td>\n",
              "      <td>NaN</td>\n",
              "      <td>NaN</td>\n",
              "      <td>NaN</td>\n",
              "    </tr>\n",
              "    <tr>\n",
              "      <th>3667</th>\n",
              "      <td>3668</td>\n",
              "      <td>Boris Fonyuy @Carnegie Mellon University</td>\n",
              "      <td>NaN</td>\n",
              "      <td>NaN</td>\n",
              "      <td>NaN</td>\n",
              "      <td>NaN</td>\n",
              "      <td>NaN</td>\n",
              "      <td>NaN</td>\n",
              "      <td>NaN</td>\n",
              "      <td>NaN</td>\n",
              "      <td>NaN</td>\n",
              "    </tr>\n",
              "  </tbody>\n",
              "</table>\n",
              "<p>103 rows × 11 columns</p>\n",
              "</div>\n",
              "    <div class=\"colab-df-buttons\">\n",
              "\n",
              "  <div class=\"colab-df-container\">\n",
              "    <button class=\"colab-df-convert\" onclick=\"convertToInteractive('df-09bc455e-1927-48b0-b68b-a31bd8e3c8e5')\"\n",
              "            title=\"Convert this dataframe to an interactive table.\"\n",
              "            style=\"display:none;\">\n",
              "\n",
              "  <svg xmlns=\"http://www.w3.org/2000/svg\" height=\"24px\" viewBox=\"0 -960 960 960\">\n",
              "    <path d=\"M120-120v-720h720v720H120Zm60-500h600v-160H180v160Zm220 220h160v-160H400v160Zm0 220h160v-160H400v160ZM180-400h160v-160H180v160Zm440 0h160v-160H620v160ZM180-180h160v-160H180v160Zm440 0h160v-160H620v160Z\"/>\n",
              "  </svg>\n",
              "    </button>\n",
              "\n",
              "  <style>\n",
              "    .colab-df-container {\n",
              "      display:flex;\n",
              "      gap: 12px;\n",
              "    }\n",
              "\n",
              "    .colab-df-convert {\n",
              "      background-color: #E8F0FE;\n",
              "      border: none;\n",
              "      border-radius: 50%;\n",
              "      cursor: pointer;\n",
              "      display: none;\n",
              "      fill: #1967D2;\n",
              "      height: 32px;\n",
              "      padding: 0 0 0 0;\n",
              "      width: 32px;\n",
              "    }\n",
              "\n",
              "    .colab-df-convert:hover {\n",
              "      background-color: #E2EBFA;\n",
              "      box-shadow: 0px 1px 2px rgba(60, 64, 67, 0.3), 0px 1px 3px 1px rgba(60, 64, 67, 0.15);\n",
              "      fill: #174EA6;\n",
              "    }\n",
              "\n",
              "    .colab-df-buttons div {\n",
              "      margin-bottom: 4px;\n",
              "    }\n",
              "\n",
              "    [theme=dark] .colab-df-convert {\n",
              "      background-color: #3B4455;\n",
              "      fill: #D2E3FC;\n",
              "    }\n",
              "\n",
              "    [theme=dark] .colab-df-convert:hover {\n",
              "      background-color: #434B5C;\n",
              "      box-shadow: 0px 1px 3px 1px rgba(0, 0, 0, 0.15);\n",
              "      filter: drop-shadow(0px 1px 2px rgba(0, 0, 0, 0.3));\n",
              "      fill: #FFFFFF;\n",
              "    }\n",
              "  </style>\n",
              "\n",
              "    <script>\n",
              "      const buttonEl =\n",
              "        document.querySelector('#df-09bc455e-1927-48b0-b68b-a31bd8e3c8e5 button.colab-df-convert');\n",
              "      buttonEl.style.display =\n",
              "        google.colab.kernel.accessAllowed ? 'block' : 'none';\n",
              "\n",
              "      async function convertToInteractive(key) {\n",
              "        const element = document.querySelector('#df-09bc455e-1927-48b0-b68b-a31bd8e3c8e5');\n",
              "        const dataTable =\n",
              "          await google.colab.kernel.invokeFunction('convertToInteractive',\n",
              "                                                    [key], {});\n",
              "        if (!dataTable) return;\n",
              "\n",
              "        const docLinkHtml = 'Like what you see? Visit the ' +\n",
              "          '<a target=\"_blank\" href=https://colab.research.google.com/notebooks/data_table.ipynb>data table notebook</a>'\n",
              "          + ' to learn more about interactive tables.';\n",
              "        element.innerHTML = '';\n",
              "        dataTable['output_type'] = 'display_data';\n",
              "        await google.colab.output.renderOutput(dataTable, element);\n",
              "        const docLink = document.createElement('div');\n",
              "        docLink.innerHTML = docLinkHtml;\n",
              "        element.appendChild(docLink);\n",
              "      }\n",
              "    </script>\n",
              "  </div>\n",
              "\n",
              "\n",
              "<div id=\"df-f2e67d32-32c2-4354-8ae7-38e86fe083a6\">\n",
              "  <button class=\"colab-df-quickchart\" onclick=\"quickchart('df-f2e67d32-32c2-4354-8ae7-38e86fe083a6')\"\n",
              "            title=\"Suggest charts\"\n",
              "            style=\"display:none;\">\n",
              "\n",
              "<svg xmlns=\"http://www.w3.org/2000/svg\" height=\"24px\"viewBox=\"0 0 24 24\"\n",
              "     width=\"24px\">\n",
              "    <g>\n",
              "        <path d=\"M19 3H5c-1.1 0-2 .9-2 2v14c0 1.1.9 2 2 2h14c1.1 0 2-.9 2-2V5c0-1.1-.9-2-2-2zM9 17H7v-7h2v7zm4 0h-2V7h2v10zm4 0h-2v-4h2v4z\"/>\n",
              "    </g>\n",
              "</svg>\n",
              "  </button>\n",
              "\n",
              "<style>\n",
              "  .colab-df-quickchart {\n",
              "      --bg-color: #E8F0FE;\n",
              "      --fill-color: #1967D2;\n",
              "      --hover-bg-color: #E2EBFA;\n",
              "      --hover-fill-color: #174EA6;\n",
              "      --disabled-fill-color: #AAA;\n",
              "      --disabled-bg-color: #DDD;\n",
              "  }\n",
              "\n",
              "  [theme=dark] .colab-df-quickchart {\n",
              "      --bg-color: #3B4455;\n",
              "      --fill-color: #D2E3FC;\n",
              "      --hover-bg-color: #434B5C;\n",
              "      --hover-fill-color: #FFFFFF;\n",
              "      --disabled-bg-color: #3B4455;\n",
              "      --disabled-fill-color: #666;\n",
              "  }\n",
              "\n",
              "  .colab-df-quickchart {\n",
              "    background-color: var(--bg-color);\n",
              "    border: none;\n",
              "    border-radius: 50%;\n",
              "    cursor: pointer;\n",
              "    display: none;\n",
              "    fill: var(--fill-color);\n",
              "    height: 32px;\n",
              "    padding: 0;\n",
              "    width: 32px;\n",
              "  }\n",
              "\n",
              "  .colab-df-quickchart:hover {\n",
              "    background-color: var(--hover-bg-color);\n",
              "    box-shadow: 0 1px 2px rgba(60, 64, 67, 0.3), 0 1px 3px 1px rgba(60, 64, 67, 0.15);\n",
              "    fill: var(--button-hover-fill-color);\n",
              "  }\n",
              "\n",
              "  .colab-df-quickchart-complete:disabled,\n",
              "  .colab-df-quickchart-complete:disabled:hover {\n",
              "    background-color: var(--disabled-bg-color);\n",
              "    fill: var(--disabled-fill-color);\n",
              "    box-shadow: none;\n",
              "  }\n",
              "\n",
              "  .colab-df-spinner {\n",
              "    border: 2px solid var(--fill-color);\n",
              "    border-color: transparent;\n",
              "    border-bottom-color: var(--fill-color);\n",
              "    animation:\n",
              "      spin 1s steps(1) infinite;\n",
              "  }\n",
              "\n",
              "  @keyframes spin {\n",
              "    0% {\n",
              "      border-color: transparent;\n",
              "      border-bottom-color: var(--fill-color);\n",
              "      border-left-color: var(--fill-color);\n",
              "    }\n",
              "    20% {\n",
              "      border-color: transparent;\n",
              "      border-left-color: var(--fill-color);\n",
              "      border-top-color: var(--fill-color);\n",
              "    }\n",
              "    30% {\n",
              "      border-color: transparent;\n",
              "      border-left-color: var(--fill-color);\n",
              "      border-top-color: var(--fill-color);\n",
              "      border-right-color: var(--fill-color);\n",
              "    }\n",
              "    40% {\n",
              "      border-color: transparent;\n",
              "      border-right-color: var(--fill-color);\n",
              "      border-top-color: var(--fill-color);\n",
              "    }\n",
              "    60% {\n",
              "      border-color: transparent;\n",
              "      border-right-color: var(--fill-color);\n",
              "    }\n",
              "    80% {\n",
              "      border-color: transparent;\n",
              "      border-right-color: var(--fill-color);\n",
              "      border-bottom-color: var(--fill-color);\n",
              "    }\n",
              "    90% {\n",
              "      border-color: transparent;\n",
              "      border-bottom-color: var(--fill-color);\n",
              "    }\n",
              "  }\n",
              "</style>\n",
              "\n",
              "  <script>\n",
              "    async function quickchart(key) {\n",
              "      const quickchartButtonEl =\n",
              "        document.querySelector('#' + key + ' button');\n",
              "      quickchartButtonEl.disabled = true;  // To prevent multiple clicks.\n",
              "      quickchartButtonEl.classList.add('colab-df-spinner');\n",
              "      try {\n",
              "        const charts = await google.colab.kernel.invokeFunction(\n",
              "            'suggestCharts', [key], {});\n",
              "      } catch (error) {\n",
              "        console.error('Error during call to suggestCharts:', error);\n",
              "      }\n",
              "      quickchartButtonEl.classList.remove('colab-df-spinner');\n",
              "      quickchartButtonEl.classList.add('colab-df-quickchart-complete');\n",
              "    }\n",
              "    (() => {\n",
              "      let quickchartButtonEl =\n",
              "        document.querySelector('#df-f2e67d32-32c2-4354-8ae7-38e86fe083a6 button');\n",
              "      quickchartButtonEl.style.display =\n",
              "        google.colab.kernel.accessAllowed ? 'block' : 'none';\n",
              "    })();\n",
              "  </script>\n",
              "</div>\n",
              "\n",
              "  <div id=\"id_180ded2f-f781-431f-81c1-61609b0c9234\">\n",
              "    <style>\n",
              "      .colab-df-generate {\n",
              "        background-color: #E8F0FE;\n",
              "        border: none;\n",
              "        border-radius: 50%;\n",
              "        cursor: pointer;\n",
              "        display: none;\n",
              "        fill: #1967D2;\n",
              "        height: 32px;\n",
              "        padding: 0 0 0 0;\n",
              "        width: 32px;\n",
              "      }\n",
              "\n",
              "      .colab-df-generate:hover {\n",
              "        background-color: #E2EBFA;\n",
              "        box-shadow: 0px 1px 2px rgba(60, 64, 67, 0.3), 0px 1px 3px 1px rgba(60, 64, 67, 0.15);\n",
              "        fill: #174EA6;\n",
              "      }\n",
              "\n",
              "      [theme=dark] .colab-df-generate {\n",
              "        background-color: #3B4455;\n",
              "        fill: #D2E3FC;\n",
              "      }\n",
              "\n",
              "      [theme=dark] .colab-df-generate:hover {\n",
              "        background-color: #434B5C;\n",
              "        box-shadow: 0px 1px 3px 1px rgba(0, 0, 0, 0.15);\n",
              "        filter: drop-shadow(0px 1px 2px rgba(0, 0, 0, 0.3));\n",
              "        fill: #FFFFFF;\n",
              "      }\n",
              "    </style>\n",
              "    <button class=\"colab-df-generate\" onclick=\"generateWithVariable('filtered_df')\"\n",
              "            title=\"Generate code using this dataframe.\"\n",
              "            style=\"display:none;\">\n",
              "\n",
              "  <svg xmlns=\"http://www.w3.org/2000/svg\" height=\"24px\"viewBox=\"0 0 24 24\"\n",
              "       width=\"24px\">\n",
              "    <path d=\"M7,19H8.4L18.45,9,17,7.55,7,17.6ZM5,21V16.75L18.45,3.32a2,2,0,0,1,2.83,0l1.4,1.43a1.91,1.91,0,0,1,.58,1.4,1.91,1.91,0,0,1-.58,1.4L9.25,21ZM18.45,9,17,7.55Zm-12,3A5.31,5.31,0,0,0,4.9,8.1,5.31,5.31,0,0,0,1,6.5,5.31,5.31,0,0,0,4.9,4.9,5.31,5.31,0,0,0,6.5,1,5.31,5.31,0,0,0,8.1,4.9,5.31,5.31,0,0,0,12,6.5,5.46,5.46,0,0,0,6.5,12Z\"/>\n",
              "  </svg>\n",
              "    </button>\n",
              "    <script>\n",
              "      (() => {\n",
              "      const buttonEl =\n",
              "        document.querySelector('#id_180ded2f-f781-431f-81c1-61609b0c9234 button.colab-df-generate');\n",
              "      buttonEl.style.display =\n",
              "        google.colab.kernel.accessAllowed ? 'block' : 'none';\n",
              "\n",
              "      buttonEl.onclick = () => {\n",
              "        google.colab.notebook.generateWithVariable('filtered_df');\n",
              "      }\n",
              "      })();\n",
              "    </script>\n",
              "  </div>\n",
              "\n",
              "    </div>\n",
              "  </div>\n"
            ]
          },
          "metadata": {},
          "execution_count": 75
        }
      ]
    },
    {
      "cell_type": "code",
      "source": [
        "filtered_df.to_csv('winners_alumni_survey_2023.csv')"
      ],
      "metadata": {
        "id": "1LqbCYQ2AIhF"
      },
      "execution_count": 76,
      "outputs": []
    }
  ]
}